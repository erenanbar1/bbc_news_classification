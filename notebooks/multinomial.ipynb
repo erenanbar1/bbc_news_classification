{
 "cells": [
  {
   "cell_type": "code",
   "execution_count": 2,
   "id": "81af186e",
   "metadata": {},
   "outputs": [
    {
     "name": "stdout",
     "output_type": "stream",
     "text": [
      "(1668, 9635) (1668, 1) (557, 9635) (557, 1)\n"
     ]
    }
   ],
   "source": [
    "import pandas as pd\n",
    "from pathlib import Path\n",
    "X_train = pd.read_csv(Path(r\"C:\\Users\\90553\\Documents\\ml_data_analysis\\data\\X_train.csv\"),sep=r\"\\s+\")\n",
    "Y_train = pd.read_csv(Path(r\"C:\\Users\\90553\\Documents\\ml_data_analysis\\data\\Y_train.csv\"),header=None, names=['category'])\n",
    "X_test = pd.read_csv(Path(r\"C:\\Users\\90553\\Documents\\ml_data_analysis\\data\\X_test.csv\"),sep=r\"\\s+\")\n",
    "Y_test = pd.read_csv(Path(r\"C:\\Users\\90553\\Documents\\ml_data_analysis\\data\\Y_test.csv\"),header=None, names=['category'])\n",
    "print(X_train.shape, Y_train.shape, X_test.shape, Y_test.shape)"
   ]
  },
  {
   "cell_type": "code",
   "execution_count": 3,
   "id": "fc08a313",
   "metadata": {},
   "outputs": [
    {
     "name": "stdout",
     "output_type": "stream",
     "text": [
      "(1668, 9636)\n"
     ]
    },
    {
     "data": {
      "text/html": [
       "<div>\n",
       "<style scoped>\n",
       "    .dataframe tbody tr th:only-of-type {\n",
       "        vertical-align: middle;\n",
       "    }\n",
       "\n",
       "    .dataframe tbody tr th {\n",
       "        vertical-align: top;\n",
       "    }\n",
       "\n",
       "    .dataframe thead th {\n",
       "        text-align: right;\n",
       "    }\n",
       "</style>\n",
       "<table border=\"1\" class=\"dataframe\">\n",
       "  <thead>\n",
       "    <tr style=\"text-align: right;\">\n",
       "      <th></th>\n",
       "      <th>ad</th>\n",
       "      <th>sale</th>\n",
       "      <th>boost</th>\n",
       "      <th>time</th>\n",
       "      <th>warner</th>\n",
       "      <th>profit</th>\n",
       "      <th>quarterli</th>\n",
       "      <th>media</th>\n",
       "      <th>giant</th>\n",
       "      <th>jump</th>\n",
       "      <th>...</th>\n",
       "      <th>denialofservic</th>\n",
       "      <th>ddo</th>\n",
       "      <th>seagrav</th>\n",
       "      <th>bot</th>\n",
       "      <th>wirelessli</th>\n",
       "      <th>streamcast</th>\n",
       "      <th>peripher</th>\n",
       "      <th>headphon</th>\n",
       "      <th>flavour</th>\n",
       "      <th>category</th>\n",
       "    </tr>\n",
       "  </thead>\n",
       "  <tbody>\n",
       "    <tr>\n",
       "      <th>0</th>\n",
       "      <td>1</td>\n",
       "      <td>1</td>\n",
       "      <td>0</td>\n",
       "      <td>0</td>\n",
       "      <td>0</td>\n",
       "      <td>0</td>\n",
       "      <td>0</td>\n",
       "      <td>4</td>\n",
       "      <td>1</td>\n",
       "      <td>0</td>\n",
       "      <td>...</td>\n",
       "      <td>0</td>\n",
       "      <td>0</td>\n",
       "      <td>0</td>\n",
       "      <td>0</td>\n",
       "      <td>0</td>\n",
       "      <td>0</td>\n",
       "      <td>0</td>\n",
       "      <td>0</td>\n",
       "      <td>0</td>\n",
       "      <td>4</td>\n",
       "    </tr>\n",
       "    <tr>\n",
       "      <th>1</th>\n",
       "      <td>0</td>\n",
       "      <td>0</td>\n",
       "      <td>0</td>\n",
       "      <td>0</td>\n",
       "      <td>0</td>\n",
       "      <td>0</td>\n",
       "      <td>0</td>\n",
       "      <td>0</td>\n",
       "      <td>0</td>\n",
       "      <td>0</td>\n",
       "      <td>...</td>\n",
       "      <td>0</td>\n",
       "      <td>0</td>\n",
       "      <td>0</td>\n",
       "      <td>0</td>\n",
       "      <td>0</td>\n",
       "      <td>0</td>\n",
       "      <td>0</td>\n",
       "      <td>0</td>\n",
       "      <td>0</td>\n",
       "      <td>1</td>\n",
       "    </tr>\n",
       "    <tr>\n",
       "      <th>2</th>\n",
       "      <td>1</td>\n",
       "      <td>0</td>\n",
       "      <td>0</td>\n",
       "      <td>0</td>\n",
       "      <td>0</td>\n",
       "      <td>0</td>\n",
       "      <td>0</td>\n",
       "      <td>0</td>\n",
       "      <td>0</td>\n",
       "      <td>0</td>\n",
       "      <td>...</td>\n",
       "      <td>0</td>\n",
       "      <td>0</td>\n",
       "      <td>0</td>\n",
       "      <td>0</td>\n",
       "      <td>0</td>\n",
       "      <td>0</td>\n",
       "      <td>0</td>\n",
       "      <td>0</td>\n",
       "      <td>0</td>\n",
       "      <td>1</td>\n",
       "    </tr>\n",
       "    <tr>\n",
       "      <th>3</th>\n",
       "      <td>0</td>\n",
       "      <td>0</td>\n",
       "      <td>1</td>\n",
       "      <td>0</td>\n",
       "      <td>0</td>\n",
       "      <td>0</td>\n",
       "      <td>0</td>\n",
       "      <td>0</td>\n",
       "      <td>0</td>\n",
       "      <td>0</td>\n",
       "      <td>...</td>\n",
       "      <td>0</td>\n",
       "      <td>0</td>\n",
       "      <td>0</td>\n",
       "      <td>0</td>\n",
       "      <td>0</td>\n",
       "      <td>0</td>\n",
       "      <td>0</td>\n",
       "      <td>0</td>\n",
       "      <td>0</td>\n",
       "      <td>0</td>\n",
       "    </tr>\n",
       "    <tr>\n",
       "      <th>4</th>\n",
       "      <td>0</td>\n",
       "      <td>0</td>\n",
       "      <td>0</td>\n",
       "      <td>1</td>\n",
       "      <td>0</td>\n",
       "      <td>0</td>\n",
       "      <td>0</td>\n",
       "      <td>0</td>\n",
       "      <td>0</td>\n",
       "      <td>0</td>\n",
       "      <td>...</td>\n",
       "      <td>0</td>\n",
       "      <td>0</td>\n",
       "      <td>0</td>\n",
       "      <td>0</td>\n",
       "      <td>0</td>\n",
       "      <td>0</td>\n",
       "      <td>0</td>\n",
       "      <td>0</td>\n",
       "      <td>0</td>\n",
       "      <td>0</td>\n",
       "    </tr>\n",
       "  </tbody>\n",
       "</table>\n",
       "<p>5 rows × 9636 columns</p>\n",
       "</div>"
      ],
      "text/plain": [
       "   ad  sale  boost  time  warner  profit  quarterli  media  giant  jump  ...  \\\n",
       "0   1     1      0     0       0       0          0      4      1     0  ...   \n",
       "1   0     0      0     0       0       0          0      0      0     0  ...   \n",
       "2   1     0      0     0       0       0          0      0      0     0  ...   \n",
       "3   0     0      1     0       0       0          0      0      0     0  ...   \n",
       "4   0     0      0     1       0       0          0      0      0     0  ...   \n",
       "\n",
       "   denialofservic  ddo  seagrav  bot  wirelessli  streamcast  peripher  \\\n",
       "0               0    0        0    0           0           0         0   \n",
       "1               0    0        0    0           0           0         0   \n",
       "2               0    0        0    0           0           0         0   \n",
       "3               0    0        0    0           0           0         0   \n",
       "4               0    0        0    0           0           0         0   \n",
       "\n",
       "   headphon  flavour  category  \n",
       "0         0        0         4  \n",
       "1         0        0         1  \n",
       "2         0        0         1  \n",
       "3         0        0         0  \n",
       "4         0        0         0  \n",
       "\n",
       "[5 rows x 9636 columns]"
      ]
     },
     "execution_count": 3,
     "metadata": {},
     "output_type": "execute_result"
    }
   ],
   "source": [
    "XY_train = pd.concat([X_train, Y_train], axis=1)\n",
    "print(XY_train.shape)\n",
    "XY_train.head()"
   ]
  },
  {
   "cell_type": "code",
   "execution_count": 4,
   "id": "f47b59f2",
   "metadata": {},
   "outputs": [
    {
     "name": "stdout",
     "output_type": "stream",
     "text": [
      "           ad  sale  boost  time  warner  profit  quarterli  media  giant  \\\n",
      "category                                                                    \n",
      "0         125   284     87   164       0     187          9     23     69   \n",
      "1          88    95     12   159      10       7          0     31     12   \n",
      "2         142     8     34   239       0       3          1     27      3   \n",
      "3         157    34     16   262       0       0          0     19      5   \n",
      "4         119    91     17   284      10      18          2    145     45   \n",
      "\n",
      "          jump  ...  Â£339  denialofservic  ddo  seagrav  bot  wirelessli  \\\n",
      "category        ...                                                         \n",
      "0           28  ...      0               0    0        0    0           0   \n",
      "1            4  ...      0               0    0        0    0           0   \n",
      "2            3  ...      0               0    0        0    0           0   \n",
      "3           40  ...      0               0    0        0    0           0   \n",
      "4            5  ...      2               3    9       11   22           1   \n",
      "\n",
      "          streamcast  peripher  headphon  flavour  \n",
      "category                                           \n",
      "0                  0         0         0        0  \n",
      "1                  0         0         0        0  \n",
      "2                  0         0         0        0  \n",
      "3                  0         0         0        0  \n",
      "4                  5         4         3        2  \n",
      "\n",
      "[5 rows x 9635 columns]\n"
     ]
    }
   ],
   "source": [
    "word_counts = XY_train.groupby('category').agg('sum')\n",
    "print(word_counts.head())"
   ]
  },
  {
   "cell_type": "code",
   "execution_count": 5,
   "id": "c675c572",
   "metadata": {},
   "outputs": [
    {
     "name": "stdout",
     "output_type": "stream",
     "text": [
      "category\n",
      "0    63889\n",
      "1    48010\n",
      "2    71554\n",
      "3    62439\n",
      "4    78433\n",
      "dtype: int64\n"
     ]
    }
   ],
   "source": [
    "total_words_per_category = word_counts.sum(axis=1)\n",
    "print(total_words_per_category)"
   ]
  },
  {
   "cell_type": "code",
   "execution_count": 6,
   "id": "77c9a315",
   "metadata": {},
   "outputs": [
    {
     "name": "stdout",
     "output_type": "stream",
     "text": [
      "   category        ad      sale     boost      time    warner    profit  \\\n",
      "0         0  0.001957  0.004445  0.001362  0.002567  0.000000  0.002927   \n",
      "1         1  0.001833  0.001979  0.000250  0.003312  0.000208  0.000146   \n",
      "2         2  0.001985  0.000112  0.000475  0.003340  0.000000  0.000042   \n",
      "3         3  0.002514  0.000545  0.000256  0.004196  0.000000  0.000000   \n",
      "4         4  0.001517  0.001160  0.000217  0.003621  0.000127  0.000229   \n",
      "\n",
      "   quarterli     media     giant  ...     Â£339  denialofservic       ddo  \\\n",
      "0   0.000141  0.000360  0.001080  ...  0.000000        0.000000  0.000000   \n",
      "1   0.000000  0.000646  0.000250  ...  0.000000        0.000000  0.000000   \n",
      "2   0.000014  0.000377  0.000042  ...  0.000000        0.000000  0.000000   \n",
      "3   0.000000  0.000304  0.000080  ...  0.000000        0.000000  0.000000   \n",
      "4   0.000025  0.001849  0.000574  ...  0.000025        0.000038  0.000115   \n",
      "\n",
      "   seagrav      bot  wirelessli  streamcast  peripher  headphon   flavour  \n",
      "0  0.00000  0.00000    0.000000    0.000000  0.000000  0.000000  0.000000  \n",
      "1  0.00000  0.00000    0.000000    0.000000  0.000000  0.000000  0.000000  \n",
      "2  0.00000  0.00000    0.000000    0.000000  0.000000  0.000000  0.000000  \n",
      "3  0.00000  0.00000    0.000000    0.000000  0.000000  0.000000  0.000000  \n",
      "4  0.00014  0.00028    0.000013    0.000064  0.000051  0.000038  0.000025  \n",
      "\n",
      "[5 rows x 9636 columns]\n"
     ]
    }
   ],
   "source": [
    "word_probs = word_counts.div(total_words_per_category, axis=0)\n",
    "word_probs.reset_index(inplace=True)\n",
    "print(word_probs.head())"
   ]
  },
  {
   "cell_type": "code",
   "execution_count": 7,
   "id": "d1226e09",
   "metadata": {},
   "outputs": [
    {
     "data": {
      "text/plain": [
       "0    1.0\n",
       "1    2.0\n",
       "2    3.0\n",
       "3    4.0\n",
       "4    5.0\n",
       "dtype: float64"
      ]
     },
     "execution_count": 7,
     "metadata": {},
     "output_type": "execute_result"
    }
   ],
   "source": [
    "word_probs.sum(axis=1)\n"
   ]
  },
  {
   "cell_type": "code",
   "execution_count": 8,
   "id": "57241cf7",
   "metadata": {},
   "outputs": [
    {
     "name": "stdout",
     "output_type": "stream",
     "text": [
      "   category  probability\n",
      "0         0     0.224820\n",
      "1         1     0.170264\n",
      "2         2     0.191247\n",
      "3         3     0.226019\n",
      "4         4     0.187650\n",
      "category       10.0\n",
      "probability     1.0\n",
      "dtype: float64\n"
     ]
    }
   ],
   "source": [
    "priors = Y_train['category'].value_counts().sort_index() / len(Y_train)\n",
    "priors = priors.reset_index()\n",
    "priors.columns = ['category', 'probability']\n",
    "print(priors)\n",
    "print(priors.sum())"
   ]
  },
  {
   "cell_type": "code",
   "execution_count": 9,
   "id": "a2fbc1b8",
   "metadata": {},
   "outputs": [
    {
     "data": {
      "text/html": [
       "<div>\n",
       "<style scoped>\n",
       "    .dataframe tbody tr th:only-of-type {\n",
       "        vertical-align: middle;\n",
       "    }\n",
       "\n",
       "    .dataframe tbody tr th {\n",
       "        vertical-align: top;\n",
       "    }\n",
       "\n",
       "    .dataframe thead th {\n",
       "        text-align: right;\n",
       "    }\n",
       "</style>\n",
       "<table border=\"1\" class=\"dataframe\">\n",
       "  <thead>\n",
       "    <tr style=\"text-align: right;\">\n",
       "      <th></th>\n",
       "      <th>ad</th>\n",
       "      <th>sale</th>\n",
       "      <th>boost</th>\n",
       "      <th>time</th>\n",
       "      <th>warner</th>\n",
       "      <th>profit</th>\n",
       "      <th>quarterli</th>\n",
       "      <th>media</th>\n",
       "      <th>giant</th>\n",
       "      <th>jump</th>\n",
       "      <th>...</th>\n",
       "      <th>Â£339</th>\n",
       "      <th>denialofservic</th>\n",
       "      <th>ddo</th>\n",
       "      <th>seagrav</th>\n",
       "      <th>bot</th>\n",
       "      <th>wirelessli</th>\n",
       "      <th>streamcast</th>\n",
       "      <th>peripher</th>\n",
       "      <th>headphon</th>\n",
       "      <th>flavour</th>\n",
       "    </tr>\n",
       "  </thead>\n",
       "  <tbody>\n",
       "    <tr>\n",
       "      <th>0</th>\n",
       "      <td>0</td>\n",
       "      <td>0</td>\n",
       "      <td>0</td>\n",
       "      <td>0</td>\n",
       "      <td>0</td>\n",
       "      <td>0</td>\n",
       "      <td>0</td>\n",
       "      <td>0</td>\n",
       "      <td>0</td>\n",
       "      <td>0</td>\n",
       "      <td>...</td>\n",
       "      <td>0</td>\n",
       "      <td>0</td>\n",
       "      <td>0</td>\n",
       "      <td>0</td>\n",
       "      <td>0</td>\n",
       "      <td>0</td>\n",
       "      <td>0</td>\n",
       "      <td>0</td>\n",
       "      <td>0</td>\n",
       "      <td>0</td>\n",
       "    </tr>\n",
       "    <tr>\n",
       "      <th>1</th>\n",
       "      <td>1</td>\n",
       "      <td>0</td>\n",
       "      <td>0</td>\n",
       "      <td>0</td>\n",
       "      <td>0</td>\n",
       "      <td>0</td>\n",
       "      <td>0</td>\n",
       "      <td>0</td>\n",
       "      <td>0</td>\n",
       "      <td>0</td>\n",
       "      <td>...</td>\n",
       "      <td>0</td>\n",
       "      <td>0</td>\n",
       "      <td>0</td>\n",
       "      <td>0</td>\n",
       "      <td>0</td>\n",
       "      <td>0</td>\n",
       "      <td>0</td>\n",
       "      <td>0</td>\n",
       "      <td>0</td>\n",
       "      <td>0</td>\n",
       "    </tr>\n",
       "    <tr>\n",
       "      <th>2</th>\n",
       "      <td>1</td>\n",
       "      <td>0</td>\n",
       "      <td>1</td>\n",
       "      <td>0</td>\n",
       "      <td>0</td>\n",
       "      <td>6</td>\n",
       "      <td>0</td>\n",
       "      <td>0</td>\n",
       "      <td>0</td>\n",
       "      <td>1</td>\n",
       "      <td>...</td>\n",
       "      <td>0</td>\n",
       "      <td>0</td>\n",
       "      <td>0</td>\n",
       "      <td>0</td>\n",
       "      <td>0</td>\n",
       "      <td>0</td>\n",
       "      <td>0</td>\n",
       "      <td>0</td>\n",
       "      <td>0</td>\n",
       "      <td>0</td>\n",
       "    </tr>\n",
       "    <tr>\n",
       "      <th>3</th>\n",
       "      <td>1</td>\n",
       "      <td>1</td>\n",
       "      <td>0</td>\n",
       "      <td>3</td>\n",
       "      <td>0</td>\n",
       "      <td>0</td>\n",
       "      <td>0</td>\n",
       "      <td>0</td>\n",
       "      <td>0</td>\n",
       "      <td>0</td>\n",
       "      <td>...</td>\n",
       "      <td>0</td>\n",
       "      <td>0</td>\n",
       "      <td>0</td>\n",
       "      <td>0</td>\n",
       "      <td>0</td>\n",
       "      <td>0</td>\n",
       "      <td>0</td>\n",
       "      <td>0</td>\n",
       "      <td>0</td>\n",
       "      <td>0</td>\n",
       "    </tr>\n",
       "    <tr>\n",
       "      <th>4</th>\n",
       "      <td>0</td>\n",
       "      <td>0</td>\n",
       "      <td>0</td>\n",
       "      <td>0</td>\n",
       "      <td>0</td>\n",
       "      <td>0</td>\n",
       "      <td>0</td>\n",
       "      <td>0</td>\n",
       "      <td>0</td>\n",
       "      <td>0</td>\n",
       "      <td>...</td>\n",
       "      <td>0</td>\n",
       "      <td>0</td>\n",
       "      <td>0</td>\n",
       "      <td>0</td>\n",
       "      <td>0</td>\n",
       "      <td>0</td>\n",
       "      <td>0</td>\n",
       "      <td>0</td>\n",
       "      <td>0</td>\n",
       "      <td>0</td>\n",
       "    </tr>\n",
       "  </tbody>\n",
       "</table>\n",
       "<p>5 rows × 9635 columns</p>\n",
       "</div>"
      ],
      "text/plain": [
       "   ad  sale  boost  time  warner  profit  quarterli  media  giant  jump  ...  \\\n",
       "0   0     0      0     0       0       0          0      0      0     0  ...   \n",
       "1   1     0      0     0       0       0          0      0      0     0  ...   \n",
       "2   1     0      1     0       0       6          0      0      0     1  ...   \n",
       "3   1     1      0     3       0       0          0      0      0     0  ...   \n",
       "4   0     0      0     0       0       0          0      0      0     0  ...   \n",
       "\n",
       "   Â£339  denialofservic  ddo  seagrav  bot  wirelessli  streamcast  peripher  \\\n",
       "0      0               0    0        0    0           0           0         0   \n",
       "1      0               0    0        0    0           0           0         0   \n",
       "2      0               0    0        0    0           0           0         0   \n",
       "3      0               0    0        0    0           0           0         0   \n",
       "4      0               0    0        0    0           0           0         0   \n",
       "\n",
       "   headphon  flavour  \n",
       "0         0        0  \n",
       "1         0        0  \n",
       "2         0        0  \n",
       "3         0        0  \n",
       "4         0        0  \n",
       "\n",
       "[5 rows x 9635 columns]"
      ]
     },
     "execution_count": 9,
     "metadata": {},
     "output_type": "execute_result"
    }
   ],
   "source": [
    "X_test.head()"
   ]
  },
  {
   "cell_type": "code",
   "execution_count": 10,
   "id": "5e489865",
   "metadata": {},
   "outputs": [
    {
     "name": "stdout",
     "output_type": "stream",
     "text": [
      "[[ -6.23658874  -5.41592824  -6.59899436 ...         -inf         -inf\n",
      "          -inf]\n",
      " [ -6.30182779  -6.22528771  -8.29425795 ...         -inf         -inf\n",
      "          -inf]\n",
      " [ -6.22238063  -9.09876615  -7.65184716 ...         -inf         -inf\n",
      "          -inf]\n",
      " [ -5.98569955  -7.51558483  -8.26935664 ...         -inf         -inf\n",
      "          -inf]\n",
      " [ -6.49087654  -6.75914053  -8.43678669 ...  -9.88370568 -10.17138775\n",
      "  -10.57685286]]\n"
     ]
    },
    {
     "name": "stderr",
     "output_type": "stream",
     "text": [
      "C:\\Users\\90553\\AppData\\Local\\Temp\\ipykernel_3132\\3195139691.py:3: RuntimeWarning: divide by zero encountered in log\n",
      "  L = np.log(L[:, 1:])  # Exclude the 'category' column\n"
     ]
    }
   ],
   "source": [
    "import numpy as np\n",
    "L = word_probs.to_numpy()\n",
    "L = np.log(L[:, 1:])  # Exclude the 'category' column\n",
    "print(L)"
   ]
  },
  {
   "cell_type": "code",
   "execution_count": 11,
   "id": "7a066cf4",
   "metadata": {},
   "outputs": [
    {
     "name": "stdout",
     "output_type": "stream",
     "text": [
      "[0.22482014 0.17026379 0.191247   0.22601918 0.18764988]\n",
      "[-1.49245456 -1.77040634 -1.65418948 -1.4871354  -1.67317739]\n"
     ]
    }
   ],
   "source": [
    "P = priors['probability'].to_numpy()\n",
    "print(P)\n",
    "P = np.log(P)\n",
    "print(P)"
   ]
  },
  {
   "cell_type": "code",
   "execution_count": 12,
   "id": "c6b9986c",
   "metadata": {},
   "outputs": [
    {
     "name": "stdout",
     "output_type": "stream",
     "text": [
      "[[1 1 0 ... 0 0 0]\n",
      " [0 0 0 ... 0 0 0]\n",
      " [1 0 0 ... 0 0 0]\n",
      " ...\n",
      " [0 0 0 ... 0 0 0]\n",
      " [1 0 0 ... 0 0 0]\n",
      " [1 0 0 ... 0 0 0]]\n"
     ]
    }
   ],
   "source": [
    "X = X_train.to_numpy()\n",
    "print(X)"
   ]
  },
  {
   "cell_type": "code",
   "execution_count": 13,
   "id": "1a637673",
   "metadata": {},
   "outputs": [
    {
     "name": "stderr",
     "output_type": "stream",
     "text": [
      "C:\\Users\\90553\\AppData\\Local\\Temp\\ipykernel_3132\\1181685707.py:10: RuntimeWarning: invalid value encountered in scalar multiply\n",
      "  M[i,k] += L[k, j] * X[i, j] # Add log-likelihood multiplied by word freq\n"
     ]
    },
    {
     "ename": "KeyboardInterrupt",
     "evalue": "",
     "output_type": "error",
     "traceback": [
      "\u001b[31m---------------------------------------------------------------------------\u001b[39m",
      "\u001b[31mKeyboardInterrupt\u001b[39m                         Traceback (most recent call last)",
      "\u001b[36mCell\u001b[39m\u001b[36m \u001b[39m\u001b[32mIn[13]\u001b[39m\u001b[32m, line 10\u001b[39m\n\u001b[32m      8\u001b[39m                 M[i, k] += P[k] \u001b[38;5;66;03m# Add prior only once per document\u001b[39;00m\n\u001b[32m      9\u001b[39m                 priorFlag[i]=\u001b[32m1\u001b[39m\n\u001b[32m---> \u001b[39m\u001b[32m10\u001b[39m             M[i,k] += L[k, j] * X[i, j] \u001b[38;5;66;03m# Add log-likelihood multiplied by word freq\u001b[39;00m\n\u001b[32m     11\u001b[39m \u001b[38;5;28mprint\u001b[39m(M)\n",
      "\u001b[31mKeyboardInterrupt\u001b[39m: "
     ]
    }
   ],
   "source": [
    "M = np.zeros((X.shape[0], P.shape[0]))  # Initialize M with zeros\n",
    "priorFlag = np.zeros(M.shape[0])  # Initialize priorFlag\n",
    "for i in range(M.shape[0]):  # for each doc i\n",
    "    for j in range(X.shape[1]):  # For each word j\n",
    "\n",
    "        for k in range(L.shape[0]):  # For each category\n",
    "            if(priorFlag[i]==0):\n",
    "                M[i, k] += P[k] # Add prior only once per document\n",
    "                priorFlag[i]=1\n",
    "            M[i,k] += L[k, j] * X[i, j] # Add log-likelihood multiplied by word freq\n",
    "print(M)\n"
   ]
  }
 ],
 "metadata": {
  "kernelspec": {
   "display_name": "Python (ml_data_analysis)",
   "language": "python",
   "name": "venv"
  },
  "language_info": {
   "codemirror_mode": {
    "name": "ipython",
    "version": 3
   },
   "file_extension": ".py",
   "mimetype": "text/x-python",
   "name": "python",
   "nbconvert_exporter": "python",
   "pygments_lexer": "ipython3",
   "version": "3.12.6"
  }
 },
 "nbformat": 4,
 "nbformat_minor": 5
}
