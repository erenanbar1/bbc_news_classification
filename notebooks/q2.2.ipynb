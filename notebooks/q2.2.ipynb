{
 "cells": [
  {
   "cell_type": "code",
   "execution_count": 2,
   "id": "dcd3eefa",
   "metadata": {},
   "outputs": [
    {
     "name": "stdout",
     "output_type": "stream",
     "text": [
      "(1668, 9635) (1668, 1) (557, 9635) (557, 1)\n"
     ]
    }
   ],
   "source": [
    "import pandas as pd\n",
    "from pathlib import Path\n",
    "X_train = pd.read_csv(Path(r\"C:\\Users\\90553\\Documents\\ml_data_analysis\\data\\X_train.csv\"),sep=r\"\\s+\")\n",
    "Y_train = pd.read_csv(Path(r\"C:\\Users\\90553\\Documents\\ml_data_analysis\\data\\Y_train.csv\"),header=None, names=['category'])\n",
    "X_test = pd.read_csv(Path(r\"C:\\Users\\90553\\Documents\\ml_data_analysis\\data\\X_test.csv\"),sep=r\"\\s+\")\n",
    "Y_test = pd.read_csv(Path(r\"C:\\Users\\90553\\Documents\\ml_data_analysis\\data\\Y_test.csv\"),header=None, names=['category'])\n",
    "print(X_train.shape, Y_train.shape, X_test.shape, Y_test.shape)"
   ]
  },
  {
   "cell_type": "code",
   "execution_count": 3,
   "id": "165cb053",
   "metadata": {},
   "outputs": [
    {
     "name": "stdout",
     "output_type": "stream",
     "text": [
      "   category  ad  sale  boost  time  warner  profit  quarterli  media  giant  \\\n",
      "0         4   1     1      0     0       0       0          0      4      1   \n",
      "1         1   0     0      0     0       0       0          0      0      0   \n",
      "2         1   1     0      0     0       0       0          0      0      0   \n",
      "3         0   0     0      1     0       0       0          0      0      0   \n",
      "4         0   0     0      0     1       0       0          0      0      0   \n",
      "\n",
      "   ...  Â£339  denialofservic  ddo  seagrav  bot  wirelessli  streamcast  \\\n",
      "0  ...      0               0    0        0    0           0           0   \n",
      "1  ...      0               0    0        0    0           0           0   \n",
      "2  ...      0               0    0        0    0           0           0   \n",
      "3  ...      0               0    0        0    0           0           0   \n",
      "4  ...      0               0    0        0    0           0           0   \n",
      "\n",
      "   peripher  headphon  flavour  \n",
      "0         0         0        0  \n",
      "1         0         0        0  \n",
      "2         0         0        0  \n",
      "3         0         0        0  \n",
      "4         0         0        0  \n",
      "\n",
      "[5 rows x 9636 columns]\n"
     ]
    }
   ],
   "source": [
    "XY_train = pd.concat([Y_train, X_train], axis=1)\n",
    "print(XY_train.head())"
   ]
  },
  {
   "cell_type": "code",
   "execution_count": 4,
   "id": "0075227e",
   "metadata": {},
   "outputs": [
    {
     "name": "stdout",
     "output_type": "stream",
     "text": [
      "           ad  sale  boost  time  warner  profit  quarterli  media  giant  \\\n",
      "category                                                                    \n",
      "0         125   284     87   164       0     187          9     23     69   \n",
      "1          88    95     12   159      10       7          0     31     12   \n",
      "2         142     8     34   239       0       3          1     27      3   \n",
      "3         157    34     16   262       0       0          0     19      5   \n",
      "4         119    91     17   284      10      18          2    145     45   \n",
      "\n",
      "          jump  ...  Â£339  denialofservic  ddo  seagrav  bot  wirelessli  \\\n",
      "category        ...                                                         \n",
      "0           28  ...      0               0    0        0    0           0   \n",
      "1            4  ...      0               0    0        0    0           0   \n",
      "2            3  ...      0               0    0        0    0           0   \n",
      "3           40  ...      0               0    0        0    0           0   \n",
      "4            5  ...      2               3    9       11   22           1   \n",
      "\n",
      "          streamcast  peripher  headphon  flavour  \n",
      "category                                           \n",
      "0                  0         0         0        0  \n",
      "1                  0         0         0        0  \n",
      "2                  0         0         0        0  \n",
      "3                  0         0         0        0  \n",
      "4                  5         4         3        2  \n",
      "\n",
      "[5 rows x 9635 columns]\n"
     ]
    }
   ],
   "source": [
    "word_freq_sum = XY_train.groupby('category').sum()\n",
    "print(word_freq_sum.head())\n",
    "\n"
   ]
  },
  {
   "cell_type": "code",
   "execution_count": 5,
   "id": "adf8eeed",
   "metadata": {},
   "outputs": [
    {
     "name": "stdout",
     "output_type": "stream",
     "text": [
      "category\n",
      "0    63889\n",
      "1    48010\n",
      "2    71554\n",
      "3    62439\n",
      "4    78433\n",
      "dtype: int64\n"
     ]
    }
   ],
   "source": [
    "total_words_per_category = word_freq_sum.sum(axis=1)\n",
    "print(total_words_per_category)"
   ]
  },
  {
   "cell_type": "code",
   "execution_count": 28,
   "id": "1d0fe0a3",
   "metadata": {},
   "outputs": [
    {
     "name": "stdout",
     "output_type": "stream",
     "text": [
      "                ad      sale     boost      time    warner     profit  \\\n",
      "category                                                                \n",
      "0        -6.236589 -5.415928 -6.598994 -5.965036      -inf  -5.833794   \n",
      "1        -6.301828 -6.225288 -8.294258 -5.710260 -8.476580  -8.833254   \n",
      "2        -6.222381 -9.098766 -7.651847 -5.701744      -inf -10.079595   \n",
      "3        -5.985700 -7.515585 -8.269357 -5.473601      -inf       -inf   \n",
      "4        -6.490877 -6.759141 -8.436787 -5.621026 -8.967415  -8.379628   \n",
      "\n",
      "          quarterli     media      giant       jump  ...      Â£339  \\\n",
      "category                                             ...              \n",
      "0         -8.867678 -7.929408  -6.830796  -7.732698  ...       -inf   \n",
      "1              -inf -7.345177  -8.294258  -9.392870  ...       -inf   \n",
      "2        -11.178208 -7.882371 -10.079595 -10.079595  ...       -inf   \n",
      "3              -inf -8.097506  -9.432507  -7.353066  ...       -inf   \n",
      "4        -10.576853 -6.293266  -7.463338  -9.660562  ... -10.576853   \n",
      "\n",
      "          denialofservic       ddo   seagrav       bot  wirelessli  \\\n",
      "category                                                             \n",
      "0                   -inf      -inf      -inf      -inf        -inf   \n",
      "1                   -inf      -inf      -inf      -inf        -inf   \n",
      "2                   -inf      -inf      -inf      -inf        -inf   \n",
      "3                   -inf      -inf      -inf      -inf        -inf   \n",
      "4             -10.171388 -9.072775 -8.872105 -8.178958      -11.27   \n",
      "\n",
      "          streamcast  peripher   headphon    flavour  \n",
      "category                                              \n",
      "0               -inf      -inf       -inf       -inf  \n",
      "1               -inf      -inf       -inf       -inf  \n",
      "2               -inf      -inf       -inf       -inf  \n",
      "3               -inf      -inf       -inf       -inf  \n",
      "4          -9.660562 -9.883706 -10.171388 -10.576853  \n",
      "\n",
      "[5 rows x 9635 columns]\n",
      "(5, 9635)\n",
      "category\n",
      "0    1.0\n",
      "1    1.0\n",
      "2    1.0\n",
      "3    1.0\n",
      "4    1.0\n",
      "dtype: float64\n"
     ]
    },
    {
     "name": "stderr",
     "output_type": "stream",
     "text": [
      "c:\\Users\\90553\\Documents\\ml_data_analysis\\venv\\Lib\\site-packages\\pandas\\core\\internals\\blocks.py:395: RuntimeWarning: divide by zero encountered in log\n",
      "  result = func(self.values, **kwargs)\n"
     ]
    }
   ],
   "source": [
    "import numpy as np\n",
    "word_probs = word_freq_sum.div(total_words_per_category, axis=0)\n",
    "\n",
    "# take log normally (this will give -inf where prob=0)\n",
    "log_probs = np.log(word_probs)\n",
    "\n",
    "# replace -inf with a very negative number to simulate it\n",
    "#log_probs = log_probs.replace(-np.inf, -1e12)\n",
    "\n",
    "\n",
    "print(log_probs.head())\n",
    "print(log_probs.shape)\n",
    "print(word_probs.sum(axis=1))"
   ]
  },
  {
   "cell_type": "code",
   "execution_count": 29,
   "id": "3fac400e",
   "metadata": {},
   "outputs": [
    {
     "name": "stdout",
     "output_type": "stream",
     "text": [
      "(557, 9635)\n",
      "(5, 9635)\n"
     ]
    }
   ],
   "source": [
    "X = X_test.to_numpy() #mxn matrix of test data\n",
    "T = log_probs.to_numpy() #kxn matrix of log prob of words given class\n",
    "print(X.shape)\n",
    "print(T.shape)\n"
   ]
  },
  {
   "cell_type": "code",
   "execution_count": 30,
   "id": "2d117749",
   "metadata": {},
   "outputs": [
    {
     "name": "stdout",
     "output_type": "stream",
     "text": [
      "(557, 5)\n",
      "[[nan nan nan nan nan]\n",
      " [nan nan nan nan nan]\n",
      " [nan nan nan nan nan]\n",
      " ...\n",
      " [nan nan nan nan nan]\n",
      " [nan nan nan nan nan]\n",
      " [nan nan nan nan nan]]\n"
     ]
    },
    {
     "name": "stderr",
     "output_type": "stream",
     "text": [
      "C:\\Users\\90553\\AppData\\Local\\Temp\\ipykernel_4220\\3890831514.py:1: RuntimeWarning: invalid value encountered in matmul\n",
      "  scores = X @ T.T              # (n_docs × n_classes)\n"
     ]
    }
   ],
   "source": [
    "scores = X @ T.T              # (n_docs × n_classes)\n",
    "\n",
    "print(scores.shape)           # should be (num_docs, num_categories)\n",
    "print(scores)"
   ]
  },
  {
   "cell_type": "code",
   "execution_count": 31,
   "id": "52fd5259",
   "metadata": {},
   "outputs": [
    {
     "name": "stdout",
     "output_type": "stream",
     "text": [
      "category\n",
      "0    0.224820\n",
      "1    0.170264\n",
      "2    0.191247\n",
      "3    0.226019\n",
      "4    0.187650\n",
      "Name: count, dtype: float64\n",
      "1.0\n",
      "[-1.49245456 -1.77040634 -1.65418948 -1.4871354  -1.67317739]\n"
     ]
    }
   ],
   "source": [
    "priors = Y_train['category'].value_counts().sort_index() / len(Y_train)\n",
    "print(priors)\n",
    "print(priors.sum())\n",
    "priors = np.log(priors)\n",
    "\n",
    "priors = priors.reset_index()\n",
    "priors.columns = ['category', 'probability']\n",
    "priors_array = priors['probability'].to_numpy()\n",
    "print(priors_array)"
   ]
  },
  {
   "cell_type": "code",
   "execution_count": 43,
   "id": "075ebc7e",
   "metadata": {},
   "outputs": [
    {
     "name": "stdout",
     "output_type": "stream",
     "text": [
      "(557, 5)\n",
      "[[nan nan nan nan nan]\n",
      " [nan nan nan nan nan]\n",
      " [nan nan nan nan nan]\n",
      " ...\n",
      " [nan nan nan nan nan]\n",
      " [nan nan nan nan nan]\n",
      " [nan nan nan nan nan]]\n"
     ]
    }
   ],
   "source": [
    "final_scores = scores + priors_array\n",
    "print(final_scores.shape)\n",
    "print(final_scores)\n"
   ]
  },
  {
   "cell_type": "code",
   "execution_count": 49,
   "id": "b2e23db3",
   "metadata": {},
   "outputs": [
    {
     "name": "stdout",
     "output_type": "stream",
     "text": [
      "Accuracy: 0.242\n",
      "Confusion matrix\n",
      "[[135   0   0   0   0]\n",
      " [102   0   0   0   0]\n",
      " [ 98   0   0   0   0]\n",
      " [134   0   0   0   0]\n",
      " [ 88   0   0   0   0]]\n"
     ]
    }
   ],
   "source": [
    "import numpy as np\n",
    "\n",
    "# Assume: scores (N×K) and Y_test (N×1) are numpy arrays\n",
    "# Replace NaNs (e.g. from -inf + something) with -inf\n",
    "final_scores = np.nan_to_num(final_scores, nan=-np.inf)\n",
    "\n",
    "# 1. Predicted class indices\n",
    "# np.argmax already picks the smallest index when values are equal\n",
    "y_pred = np.argmax(final_scores, axis=1)\n",
    "\n",
    "# 2. True labels\n",
    "y_true = Y_test.to_numpy().flatten()   # or np.array(Y_test).flatten() if already numeric\n",
    "\n",
    "# 3. Accuracy\n",
    "accuracy = np.mean(y_true == y_pred)\n",
    "print(f\"Accuracy: {accuracy:.3f}\")\n",
    "\n",
    "# 4. Confusion matrix (NumPy only)\n",
    "K = len(np.unique(y_true))\n",
    "conf_matrix = np.zeros((K, K), dtype=int)\n",
    "for t, p in zip(y_true, y_pred):\n",
    "    conf_matrix[t, p] += 1\n",
    "\n",
    "print(\"Confusion matrix\")\n",
    "print(conf_matrix)\n",
    "\n"
   ]
  }
 ],
 "metadata": {
  "kernelspec": {
   "display_name": "Python (ml_data_analysis)",
   "language": "python",
   "name": "venv"
  },
  "language_info": {
   "codemirror_mode": {
    "name": "ipython",
    "version": 3
   },
   "file_extension": ".py",
   "mimetype": "text/x-python",
   "name": "python",
   "nbconvert_exporter": "python",
   "pygments_lexer": "ipython3",
   "version": "3.12.6"
  }
 },
 "nbformat": 4,
 "nbformat_minor": 5
}
