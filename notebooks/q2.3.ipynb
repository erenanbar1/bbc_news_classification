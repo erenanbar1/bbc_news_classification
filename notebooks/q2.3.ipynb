{
 "cells": [
  {
   "cell_type": "code",
   "execution_count": 1,
   "id": "dcd3eefa",
   "metadata": {},
   "outputs": [
    {
     "name": "stdout",
     "output_type": "stream",
     "text": [
      "(1668, 9635) (1668, 1) (557, 9635) (557, 1)\n"
     ]
    }
   ],
   "source": [
    "import pandas as pd\n",
    "from pathlib import Path\n",
    "X_train = pd.read_csv(Path(r\"C:\\Users\\90553\\Documents\\ml_data_analysis\\data\\X_train.csv\"),sep=r\"\\s+\")\n",
    "Y_train = pd.read_csv(Path(r\"C:\\Users\\90553\\Documents\\ml_data_analysis\\data\\Y_train.csv\"),header=None, names=['category'])\n",
    "X_test = pd.read_csv(Path(r\"C:\\Users\\90553\\Documents\\ml_data_analysis\\data\\X_test.csv\"),sep=r\"\\s+\")\n",
    "Y_test = pd.read_csv(Path(r\"C:\\Users\\90553\\Documents\\ml_data_analysis\\data\\Y_test.csv\"),header=None, names=['category'])\n",
    "print(X_train.shape, Y_train.shape, X_test.shape, Y_test.shape)"
   ]
  },
  {
   "cell_type": "code",
   "execution_count": 2,
   "id": "165cb053",
   "metadata": {},
   "outputs": [
    {
     "name": "stdout",
     "output_type": "stream",
     "text": [
      "   category  ad  sale  boost  time  warner  profit  quarterli  media  giant  \\\n",
      "0         4   1     1      0     0       0       0          0      4      1   \n",
      "1         1   0     0      0     0       0       0          0      0      0   \n",
      "2         1   1     0      0     0       0       0          0      0      0   \n",
      "3         0   0     0      1     0       0       0          0      0      0   \n",
      "4         0   0     0      0     1       0       0          0      0      0   \n",
      "\n",
      "   ...  Â£339  denialofservic  ddo  seagrav  bot  wirelessli  streamcast  \\\n",
      "0  ...      0               0    0        0    0           0           0   \n",
      "1  ...      0               0    0        0    0           0           0   \n",
      "2  ...      0               0    0        0    0           0           0   \n",
      "3  ...      0               0    0        0    0           0           0   \n",
      "4  ...      0               0    0        0    0           0           0   \n",
      "\n",
      "   peripher  headphon  flavour  \n",
      "0         0         0        0  \n",
      "1         0         0        0  \n",
      "2         0         0        0  \n",
      "3         0         0        0  \n",
      "4         0         0        0  \n",
      "\n",
      "[5 rows x 9636 columns]\n"
     ]
    }
   ],
   "source": [
    "XY_train = pd.concat([Y_train, X_train], axis=1)\n",
    "print(XY_train.head())"
   ]
  },
  {
   "cell_type": "code",
   "execution_count": 3,
   "id": "0075227e",
   "metadata": {},
   "outputs": [
    {
     "name": "stdout",
     "output_type": "stream",
     "text": [
      "           ad  sale  boost  time  warner  profit  quarterli  media  giant  \\\n",
      "category                                                                    \n",
      "0         126   285     88   165       1     188         10     24     70   \n",
      "1          89    96     13   160      11       8          1     32     13   \n",
      "2         143     9     35   240       1       4          2     28      4   \n",
      "3         158    35     17   263       1       1          1     20      6   \n",
      "4         120    92     18   285      11      19          3    146     46   \n",
      "\n",
      "          jump  ...  Â£339  denialofservic  ddo  seagrav  bot  wirelessli  \\\n",
      "category        ...                                                         \n",
      "0           29  ...      1               1    1        1    1           1   \n",
      "1            5  ...      1               1    1        1    1           1   \n",
      "2            4  ...      1               1    1        1    1           1   \n",
      "3           41  ...      1               1    1        1    1           1   \n",
      "4            6  ...      3               4   10       12   23           2   \n",
      "\n",
      "          streamcast  peripher  headphon  flavour  \n",
      "category                                           \n",
      "0                  1         1         1        1  \n",
      "1                  1         1         1        1  \n",
      "2                  1         1         1        1  \n",
      "3                  1         1         1        1  \n",
      "4                  6         5         4        3  \n",
      "\n",
      "[5 rows x 9635 columns]\n"
     ]
    }
   ],
   "source": [
    "word_freq_sum = XY_train.groupby('category').sum()\n",
    "word_freq_sum = word_freq_sum + 1  # Dirichlet prior alpha=1\n",
    "print(word_freq_sum.head())\n",
    "\n"
   ]
  },
  {
   "cell_type": "code",
   "execution_count": 4,
   "id": "adf8eeed",
   "metadata": {},
   "outputs": [
    {
     "name": "stdout",
     "output_type": "stream",
     "text": [
      "category\n",
      "0    73524\n",
      "1    57645\n",
      "2    81189\n",
      "3    72074\n",
      "4    88068\n",
      "dtype: int64\n"
     ]
    }
   ],
   "source": [
    "total_words_per_category = word_freq_sum.sum(axis=1)\n",
    "print(total_words_per_category)"
   ]
  },
  {
   "cell_type": "code",
   "execution_count": 5,
   "id": "1d0fe0a3",
   "metadata": {},
   "outputs": [
    {
     "name": "stdout",
     "output_type": "stream",
     "text": [
      "                ad      sale     boost      time     warner     profit  \\\n",
      "category                                                                 \n",
      "0        -6.369085 -5.552878 -6.728030 -6.099422 -11.205367  -5.968925   \n",
      "1        -6.473422 -6.397711 -8.397109 -5.886885  -8.564164  -8.882617   \n",
      "2        -6.341690 -9.107310 -7.749187 -5.823896 -11.304535  -9.918241   \n",
      "3        -6.122854 -7.630101 -8.352235 -5.613295 -11.185449 -11.185449   \n",
      "4        -6.598373 -6.864076 -8.495493 -5.733375  -8.987969  -8.441426   \n",
      "\n",
      "          quarterli     media     giant      jump  ...      Â£339  \\\n",
      "category                                           ...              \n",
      "0         -8.902782 -8.027313 -6.956872 -7.838071  ... -11.205367   \n",
      "1        -10.962059 -7.496323 -8.397109 -9.352621  ... -10.962059   \n",
      "2        -10.611388 -7.972331 -9.918241 -9.918241  ... -11.304535   \n",
      "3        -11.185449 -8.189716 -9.393689 -7.471877  ... -11.185449   \n",
      "4        -10.287252 -6.402258 -7.557223 -9.594105  ... -10.287252   \n",
      "\n",
      "          denialofservic        ddo    seagrav        bot  wirelessli  \\\n",
      "category                                                                \n",
      "0             -11.205367 -11.205367 -11.205367 -11.205367  -11.205367   \n",
      "1             -10.962059 -10.962059 -10.962059 -10.962059  -10.962059   \n",
      "2             -11.304535 -11.304535 -11.304535 -11.304535  -11.304535   \n",
      "3             -11.185449 -11.185449 -11.185449 -11.185449  -11.185449   \n",
      "4              -9.999570  -9.083279  -8.900958  -8.250370  -10.692717   \n",
      "\n",
      "          streamcast   peripher   headphon    flavour  \n",
      "category                                               \n",
      "0         -11.205367 -11.205367 -11.205367 -11.205367  \n",
      "1         -10.962059 -10.962059 -10.962059 -10.962059  \n",
      "2         -11.304535 -11.304535 -11.304535 -11.304535  \n",
      "3         -11.185449 -11.185449 -11.185449 -11.185449  \n",
      "4          -9.594105  -9.776427  -9.999570 -10.287252  \n",
      "\n",
      "[5 rows x 9635 columns]\n",
      "(5, 9635)\n",
      "category\n",
      "0    1.0\n",
      "1    1.0\n",
      "2    1.0\n",
      "3    1.0\n",
      "4    1.0\n",
      "dtype: float64\n"
     ]
    }
   ],
   "source": [
    "import numpy as np\n",
    "word_probs = word_freq_sum.div(total_words_per_category, axis=0)\n",
    "\n",
    "# take log normally (this will give -inf where prob=0)\n",
    "log_probs = np.log(word_probs)\n",
    "\n",
    "# replace -inf with a very negative number to simulate it\n",
    "#log_probs = log_probs.replace(-np.inf, -1e12)\n",
    "\n",
    "\n",
    "print(log_probs.head())\n",
    "print(log_probs.shape)\n",
    "print(word_probs.sum(axis=1))"
   ]
  },
  {
   "cell_type": "code",
   "execution_count": 6,
   "id": "3fac400e",
   "metadata": {},
   "outputs": [
    {
     "name": "stdout",
     "output_type": "stream",
     "text": [
      "(557, 9635)\n",
      "(5, 9635)\n"
     ]
    }
   ],
   "source": [
    "X = X_test.to_numpy() #mxn matrix of test data\n",
    "T = log_probs.to_numpy() #kxn matrix of log prob of words given class\n",
    "print(X.shape)\n",
    "print(T.shape)\n"
   ]
  },
  {
   "cell_type": "code",
   "execution_count": 7,
   "id": "2d117749",
   "metadata": {},
   "outputs": [
    {
     "name": "stdout",
     "output_type": "stream",
     "text": [
      "(557, 5)\n",
      "[[-1174.53356406  -955.81376786 -1124.47787562 -1167.36945432\n",
      "  -1092.77343317]\n",
      " [-1182.67179223 -1055.99295045 -1207.18557212 -1214.87869047\n",
      "  -1168.74429205]\n",
      " [-1441.62986423 -1722.73462281 -1710.10251327 -1812.0779455\n",
      "  -1679.44346606]\n",
      " ...\n",
      " [-1938.87913634 -1939.78444594 -2011.28846859 -2062.46344231\n",
      "  -1802.8878902 ]\n",
      " [-1536.91451487 -1672.52815719 -1631.47496219 -1692.66721965\n",
      "  -1656.75548517]\n",
      " [-2576.58849266 -2547.4542557  -2529.44395554 -2246.86668147\n",
      "  -2580.6231312 ]]\n"
     ]
    }
   ],
   "source": [
    "scores = X @ T.T              # (n_docs × n_classes)\n",
    "\n",
    "print(scores.shape)           # should be (num_docs, num_categories)\n",
    "print(scores)"
   ]
  },
  {
   "cell_type": "code",
   "execution_count": 8,
   "id": "52fd5259",
   "metadata": {},
   "outputs": [
    {
     "name": "stdout",
     "output_type": "stream",
     "text": [
      "category\n",
      "0    0.224820\n",
      "1    0.170264\n",
      "2    0.191247\n",
      "3    0.226019\n",
      "4    0.187650\n",
      "Name: count, dtype: float64\n",
      "1.0\n",
      "[-1.49245456 -1.77040634 -1.65418948 -1.4871354  -1.67317739]\n"
     ]
    }
   ],
   "source": [
    "priors = Y_train['category'].value_counts().sort_index() / len(Y_train)\n",
    "print(priors)\n",
    "print(priors.sum())\n",
    "priors = np.log(priors)\n",
    "\n",
    "priors = priors.reset_index()\n",
    "priors.columns = ['category', 'probability']\n",
    "priors_array = priors['probability'].to_numpy()\n",
    "print(priors_array)"
   ]
  },
  {
   "cell_type": "code",
   "execution_count": 9,
   "id": "075ebc7e",
   "metadata": {},
   "outputs": [
    {
     "name": "stdout",
     "output_type": "stream",
     "text": [
      "(557, 5)\n",
      "[[-1176.02601862  -957.5841742  -1126.1320651  -1168.85658971\n",
      "  -1094.44661057]\n",
      " [-1184.16424679 -1057.7633568  -1208.8397616  -1216.36582586\n",
      "  -1170.41746945]\n",
      " [-1443.12231878 -1724.50502915 -1711.75670275 -1813.56508089\n",
      "  -1681.11664345]\n",
      " ...\n",
      " [-1940.3715909  -1941.55485228 -2012.94265807 -2063.9505777\n",
      "  -1804.56106759]\n",
      " [-1538.40696943 -1674.29856354 -1633.12915167 -1694.15435505\n",
      "  -1658.42866256]\n",
      " [-2578.08094722 -2549.22466204 -2531.09814502 -2248.35381687\n",
      "  -2582.29630859]]\n"
     ]
    }
   ],
   "source": [
    "final_scores = scores + priors_array\n",
    "print(final_scores.shape)\n",
    "print(final_scores)\n"
   ]
  },
  {
   "cell_type": "code",
   "execution_count": 12,
   "id": "b2e23db3",
   "metadata": {},
   "outputs": [
    {
     "name": "stdout",
     "output_type": "stream",
     "text": [
      "Accuracy: 0.977\n",
      "Confusion matrix\n",
      "[[131   0   2   0   2]\n",
      " [  0  97   0   0   5]\n",
      " [  1   0  96   0   1]\n",
      " [  0   0   1 133   0]\n",
      " [  1   0   0   0  87]]\n"
     ]
    }
   ],
   "source": [
    "import numpy as np\n",
    "\n",
    "\n",
    "\n",
    "# 1. Predicted class indices\n",
    "# np.argmax already picks the smallest index when values are equal\n",
    "y_pred = np.argmax(final_scores, axis=1)\n",
    "\n",
    "# 2. True labels\n",
    "y_true = Y_test.to_numpy().flatten()   # or np.array(Y_test).flatten() if already numeric\n",
    "\n",
    "# 3. Accuracy\n",
    "accuracy = np.mean(y_true == y_pred)\n",
    "print(f\"Accuracy: {accuracy:.3f}\")\n",
    "\n",
    "# 4. Confusion matrix (NumPy only)\n",
    "K = len(np.unique(y_true))\n",
    "conf_matrix = np.zeros((K, K), dtype=int)\n",
    "for t, p in zip(y_true, y_pred):\n",
    "    conf_matrix[t, p] += 1\n",
    "\n",
    "print(\"Confusion matrix\")\n",
    "print(conf_matrix)\n",
    "\n"
   ]
  }
 ],
 "metadata": {
  "kernelspec": {
   "display_name": "Python (ml_data_analysis)",
   "language": "python",
   "name": "venv"
  },
  "language_info": {
   "codemirror_mode": {
    "name": "ipython",
    "version": 3
   },
   "file_extension": ".py",
   "mimetype": "text/x-python",
   "name": "python",
   "nbconvert_exporter": "python",
   "pygments_lexer": "ipython3",
   "version": "3.12.6"
  }
 },
 "nbformat": 4,
 "nbformat_minor": 5
}
